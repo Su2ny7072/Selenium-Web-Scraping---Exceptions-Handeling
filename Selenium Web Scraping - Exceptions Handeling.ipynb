{
 "cells": [
  {
   "cell_type": "markdown",
   "id": "4ee983a1",
   "metadata": {},
   "source": [
    "# Selenium Web Scraping - Exceptions Handeling"
   ]
  },
  {
   "cell_type": "markdown",
   "id": "2e208cc0",
   "metadata": {},
   "source": [
    "fetching job description from naukri.com website"
   ]
  },
  {
   "cell_type": "code",
   "execution_count": 2,
   "id": "c60e8a10",
   "metadata": {},
   "outputs": [],
   "source": [
    "# Importing Libraries\n",
    "import selenium\n",
    "import pandas as pd\n",
    "import time\n",
    "from bs4 import BeautifulSoup\n",
    "\n",
    "# Importing selenium webdriver\n",
    "from selenium import webdriver\n",
    "\n",
    "# Importing required Exceptions which needs to handled\n",
    "from selenium.common.exceptions import StaleElementReferenceException, NoSuchElementException\n",
    "\n",
    "# Importing regex\n",
    "import re\n",
    "from selenium.webdriver.common.by import By\n",
    "\n",
    "import time"
   ]
  },
  {
   "cell_type": "code",
   "execution_count": 3,
   "id": "cec14747",
   "metadata": {},
   "outputs": [
    {
     "name": "stderr",
     "output_type": "stream",
     "text": [
      "C:\\Users\\su2ny\\AppData\\Local\\Temp\\ipykernel_26160\\326323597.py:1: DeprecationWarning: executable_path has been deprecated, please pass in a Service object\n",
      "  driver=webdriver.Chrome(r\"C:\\Users\\su2ny\\Downloads\\chromedriver_win32\\chromedriver.exe\")\n"
     ]
    }
   ],
   "source": [
    "driver=webdriver.Chrome(r\"C:\\Users\\su2ny\\Downloads\\chromedriver_win32\\chromedriver.exe\")"
   ]
  },
  {
   "cell_type": "code",
   "execution_count": 4,
   "id": "3dd35b34",
   "metadata": {},
   "outputs": [],
   "source": [
    "# fetching url\n",
    "driver.get('https://www.naukri.com/')"
   ]
  },
  {
   "cell_type": "code",
   "execution_count": 5,
   "id": "ed1ca4c7",
   "metadata": {},
   "outputs": [],
   "source": [
    "search_field_designation=driver.find_element(By.CLASS_NAME,\"suggestor-input \") #job search bar\n",
    "search_field_designation.send_keys(\"Data Scientist\")\n",
    "\n",
    "search_field_location=driver.find_element(By.XPATH,'/html/body/div[1]/div[6]/div/div[1]/div[5]/div/div/div/input') #location search\n",
    "search_field_location.send_keys(\"Bangalore\")\n",
    "\n",
    "# clicking the search button\n",
    "search_button=driver.find_element(By.XPATH,\"/html/body/div[1]/div[6]/div/div/div[6]\")\n",
    "search_button.click()\n",
    "\n",
    "time.sleep(5)"
   ]
  },
  {
   "cell_type": "code",
   "execution_count": 6,
   "id": "c413bc32",
   "metadata": {},
   "outputs": [],
   "source": [
    "#fetching url to open each job\n",
    "job_opening_url = []\n",
    "start=0\n",
    "end=2\n",
    "for page in range(start,end):\n",
    "    url= driver.find_elements(By.XPATH,'//a[@class=\"title ellipsis\"]')\n",
    "    for i in url:\n",
    "        job_opening_url.append(i.get_attribute('href')) # to retrieve any link we use get_attribute\n",
    "    next_button=driver.find_element(By.XPATH,\"/html/body/div[1]/div[4]/div/div/section[2]/div[3]/div/a[2]/span\")    "
   ]
  },
  {
   "cell_type": "code",
   "execution_count": 7,
   "id": "8e7f9dc3",
   "metadata": {},
   "outputs": [
    {
     "data": {
      "text/plain": [
       "40"
      ]
     },
     "execution_count": 7,
     "metadata": {},
     "output_type": "execute_result"
    }
   ],
   "source": [
    "len(job_opening_url)"
   ]
  },
  {
   "cell_type": "code",
   "execution_count": 8,
   "id": "e9e10c63",
   "metadata": {},
   "outputs": [
    {
     "data": {
      "text/plain": [
       "['https://www.naukri.com/job-listings-senior-data-scientist-fractal-protocol-mumbai-pune-chennai-gurgaon-gurugram-bangalore-bengaluru-4-to-8-years-240223502318',\n",
       " 'https://www.naukri.com/job-listings-data-scientist-nlp-fractal-protocol-mumbai-pune-chennai-gurgaon-gurugram-bangalore-bengaluru-5-to-11-years-240223502296',\n",
       " 'https://www.naukri.com/job-listings-data-scientist-fractal-protocol-mumbai-pune-chennai-gurgaon-gurugram-bangalore-bengaluru-3-to-7-years-240223502295',\n",
       " 'https://www.naukri.com/job-listings-data-science-specialist-accenture-kolkata-mumbai-hyderabad-secunderabad-pune-chennai-bangalore-bengaluru-2-to-4-years-130223902578',\n",
       " 'https://www.naukri.com/job-listings-analystics-modeling-specialist-accenture-kolkata-mumbai-hyderabad-secunderabad-pune-chennai-bangalore-bengaluru-6-to-8-years-130223902315',\n",
       " 'https://www.naukri.com/job-listings-senior-data-scientist-new-frontiers-idfc-first-bank-kolkata-mumbai-new-delhi-hyderabad-secunderabad-pune-chennai-bangalore-bengaluru-3-to-7-years-250223501335',\n",
       " 'https://www.naukri.com/job-listings-data-scientist-cognizant-kolkata-hyderabad-secunderabad-pune-chennai-bangalore-bengaluru-delhi-ncr-mumbai-all-areas-8-to-10-years-090223005732',\n",
       " 'https://www.naukri.com/job-listings-lead-ml-scientist-fractal-protocol-mumbai-bangalore-bengaluru-6-to-10-years-240223502305',\n",
       " 'https://www.naukri.com/job-listings-lead-machine-learning-specialist-fractal-protocol-mumbai-bangalore-bengaluru-6-to-12-years-240223502304',\n",
       " 'https://www.naukri.com/job-listings-sr-data-scientist-tata-consultancy-services-tcs-hyderabad-secunderabad-bangalore-bengaluru-mumbai-all-areas-7-to-12-years-130223007962',\n",
       " 'https://www.naukri.com/job-listings-staff-data-scientist-baker-hughes-the-network-mumbai-bangalore-bengaluru-10-to-12-years-170223504384',\n",
       " 'https://www.naukri.com/job-listings-expert-data-scientist-upl-limited-mumbai-bangalore-bengaluru-8-to-10-years-070223905333',\n",
       " 'https://www.naukri.com/job-listings-data-scientist-ii-uber-bangalore-bengaluru-1-to-5-years-230223500902',\n",
       " 'https://www.naukri.com/job-listings-physicist-scientist-applied-materials-india-private-limited-bangalore-bengaluru-4-to-7-years-210223909481',\n",
       " 'https://www.naukri.com/job-listings-sr-specialist-data-analytics-at-and-t-global-business-services-india-p-ltd-bangalore-bengaluru-5-to-10-years-200223501587',\n",
       " 'https://www.naukri.com/job-listings-senior-data-scientist-at-and-t-global-business-services-india-p-ltd-bangalore-bengaluru-5-to-8-years-200223500738',\n",
       " 'https://www.naukri.com/job-listings-data-scientist-burgeon-it-services-hyderabad-secunderabad-pune-chennai-bangalore-bengaluru-delhi-ncr-mumbai-all-areas-8-to-11-years-270123005972',\n",
       " 'https://www.naukri.com/job-listings-senior-data-scientist-justanswer-kolkata-mumbai-new-delhi-hyderabad-secunderabad-pune-chennai-bangalore-bengaluru-6-to-10-years-230223502218',\n",
       " 'https://www.naukri.com/job-listings-principal-data-scientist-agilon-health-kolkata-mumbai-new-delhi-hyderabad-secunderabad-pune-chennai-bangalore-bengaluru-5-to-10-years-230223500630',\n",
       " 'https://www.naukri.com/job-listings-data-scientist-impetus-technologies-noida-indore-pune-gurgaon-gurugram-bangalore-bengaluru-4-to-8-years-150223011585',\n",
       " 'https://www.naukri.com/job-listings-senior-data-scientist-fractal-protocol-mumbai-pune-chennai-gurgaon-gurugram-bangalore-bengaluru-4-to-8-years-240223502318',\n",
       " 'https://www.naukri.com/job-listings-data-scientist-nlp-fractal-protocol-mumbai-pune-chennai-gurgaon-gurugram-bangalore-bengaluru-5-to-11-years-240223502296',\n",
       " 'https://www.naukri.com/job-listings-data-scientist-fractal-protocol-mumbai-pune-chennai-gurgaon-gurugram-bangalore-bengaluru-3-to-7-years-240223502295',\n",
       " 'https://www.naukri.com/job-listings-data-science-specialist-accenture-kolkata-mumbai-hyderabad-secunderabad-pune-chennai-bangalore-bengaluru-2-to-4-years-130223902578',\n",
       " 'https://www.naukri.com/job-listings-analystics-modeling-specialist-accenture-kolkata-mumbai-hyderabad-secunderabad-pune-chennai-bangalore-bengaluru-6-to-8-years-130223902315',\n",
       " 'https://www.naukri.com/job-listings-senior-data-scientist-new-frontiers-idfc-first-bank-kolkata-mumbai-new-delhi-hyderabad-secunderabad-pune-chennai-bangalore-bengaluru-3-to-7-years-250223501335',\n",
       " 'https://www.naukri.com/job-listings-data-scientist-cognizant-kolkata-hyderabad-secunderabad-pune-chennai-bangalore-bengaluru-delhi-ncr-mumbai-all-areas-8-to-10-years-090223005732',\n",
       " 'https://www.naukri.com/job-listings-lead-ml-scientist-fractal-protocol-mumbai-bangalore-bengaluru-6-to-10-years-240223502305',\n",
       " 'https://www.naukri.com/job-listings-lead-machine-learning-specialist-fractal-protocol-mumbai-bangalore-bengaluru-6-to-12-years-240223502304',\n",
       " 'https://www.naukri.com/job-listings-sr-data-scientist-tata-consultancy-services-tcs-hyderabad-secunderabad-bangalore-bengaluru-mumbai-all-areas-7-to-12-years-130223007962',\n",
       " 'https://www.naukri.com/job-listings-staff-data-scientist-baker-hughes-the-network-mumbai-bangalore-bengaluru-10-to-12-years-170223504384',\n",
       " 'https://www.naukri.com/job-listings-expert-data-scientist-upl-limited-mumbai-bangalore-bengaluru-8-to-10-years-070223905333',\n",
       " 'https://www.naukri.com/job-listings-data-scientist-ii-uber-bangalore-bengaluru-1-to-5-years-230223500902',\n",
       " 'https://www.naukri.com/job-listings-physicist-scientist-applied-materials-india-private-limited-bangalore-bengaluru-4-to-7-years-210223909481',\n",
       " 'https://www.naukri.com/job-listings-sr-specialist-data-analytics-at-and-t-global-business-services-india-p-ltd-bangalore-bengaluru-5-to-10-years-200223501587',\n",
       " 'https://www.naukri.com/job-listings-senior-data-scientist-at-and-t-global-business-services-india-p-ltd-bangalore-bengaluru-5-to-8-years-200223500738',\n",
       " 'https://www.naukri.com/job-listings-data-scientist-burgeon-it-services-hyderabad-secunderabad-pune-chennai-bangalore-bengaluru-delhi-ncr-mumbai-all-areas-8-to-11-years-270123005972',\n",
       " 'https://www.naukri.com/job-listings-senior-data-scientist-justanswer-kolkata-mumbai-new-delhi-hyderabad-secunderabad-pune-chennai-bangalore-bengaluru-6-to-10-years-230223502218',\n",
       " 'https://www.naukri.com/job-listings-principal-data-scientist-agilon-health-kolkata-mumbai-new-delhi-hyderabad-secunderabad-pune-chennai-bangalore-bengaluru-5-to-10-years-230223500630',\n",
       " 'https://www.naukri.com/job-listings-data-scientist-impetus-technologies-noida-indore-pune-gurgaon-gurugram-bangalore-bengaluru-4-to-8-years-150223011585']"
      ]
     },
     "execution_count": 8,
     "metadata": {},
     "output_type": "execute_result"
    }
   ],
   "source": [
    "job_opening_url"
   ]
  },
  {
   "cell_type": "code",
   "execution_count": 9,
   "id": "eeb28636",
   "metadata": {},
   "outputs": [],
   "source": [
    "JD=[]                   #creating an empty list\n",
    "for i in job_opening_url[0:10]: #iterating over each and every url to fetch full job details\n",
    "    driver.get(i)               #taling each url one by one as an input\n",
    "    time.sleep(7)\n",
    "    try:\n",
    "        description = driver.find_element(By.XPATH,'//div[@class=\"dang-inner-html\"]/div/ul')\n",
    "        JD.append(description.text)\n",
    "    except NoSuchElementException :\n",
    "        JD.append('Not present')"
   ]
  },
  {
   "cell_type": "code",
   "execution_count": 11,
   "id": "f8326e39",
   "metadata": {},
   "outputs": [
    {
     "data": {
      "text/plain": [
       "['Ability to understand a problem statement and implement analytical solutions techniques independently with independently / proactively / thought-leadership.\\nWork with stakeholders throughout the organization to identify opportunities for leveraging company/client data to drive business solutions.\\nFast learner: ability to learn and pick up a new language/tool/ platform quickly.\\nConceptualize, design, and deliver high-quality solutions and insightful analysis.\\nConduct research and prototyping innovations; data and requirements gathering; solution scoping and architecture; consulting clients and client facing teams on advanced statistical and machine learning problems.\\nCollaborate and Coordinate with different functional teams(engineering and product development) to implement models and monitor outcomes.\\nAbility to deliver AIML based solutions around a host of domains and problems, with some of them being: Customer Segmentation Targeting, Propensity Modeling, Churn Modeling, Lifetime Value Estimation, Forecasting, Recommender Systems, Modeling Response to Incentives, Marketing Mix Optimization, Price Optimization',\n",
       " 'Not present',\n",
       " 'Ability to understand a problem statement and implement analytical solutions techniques independently with independently / proactively / thought-leadership.\\nWork with stakeholders throughout the organization to identify opportunities for leveraging company/client data to drive business solutions.\\nFast learner: ability to learn and pick up a new language/tool/ platform quickly.\\nConceptualize, design, and deliver high-quality solutions and insightful analysis.\\nConduct research and prototyping innovations; data and requirements gathering; solution scoping and architecture; consulting clients and client facing teams on advanced statistical and machine learning problems.\\nCollaborate and Coordinate with different functional teams(engineering and product development) to implement models and monitor outcomes.\\nAbility to deliver AIML based solutions around a host of domains and problems, with some of them being: Customer Segmentation Targeting, Propensity Modeling, Churn Modeling, Lifetime Value Estimation, Forecasting, Recommender Systems, Modeling Response to Incentives, Marketing Mix Optimization, Price Optimization',\n",
       " 'Not present',\n",
       " 'Not present',\n",
       " 'Strong understanding of advanced data mining techniques, curating, processing, and transforming data to produce sound datasets.\\nStrong understanding of the Machine Learning lifecycle - feature engineering, training, validation, scaling, deployment, scoring, monitoring, and feedback loop.\\nExperience in analysing complex problems and translating it into an analytical approach.\\nExperience in Supervised and Unsupervised Machine Learning including Classification, Forecasting, Anomaly Detection, Pattern Detection, Text Mining, using variety of techniques such as Decision trees, Time Series Analysis, Bagging and Boosting algorithms, Neural Networks, Deep Learning.\\nExperience with analytical programming languages, tools, and libraries (Python ecosystem preferred, but R will be considered).',\n",
       " 'Not present',\n",
       " 'Research AI-ML applications in the financial investments space and generate ideas for Theremin.\\nBuild Deep Learning and Reinforcement Learning models to develop investment algorithms. Develop NLP models in medium term.\\nIdentify and setup datasets and generate features.\\nEnhance current platform for Data, ML modelling and testing.\\nDevelop deeper understanding of quantitative investing.\\nRefine ML-driven investment process.\\nLead and guide ML team in developing models and implementing ideas.\\nRecruit talent for ML and technology, as needed.',\n",
       " 'Research AI-ML applications in the financial investments space and generate ideas for Theremin.\\nBuild Deep Learning and Reinforcement Learning models to develop investment algorithms. Develop NLP models in medium term.\\nIdentify and setup datasets and generate features.\\nEnhance current platform for Data, ML modelling and testing.\\nDevelop deeper understanding of quantitative investing.\\nRefine ML-driven investment process.\\nLead and guide ML team in developing models and implementing ideas.\\nRecruit talent for ML and technology, as needed.',\n",
       " 'Not present']"
      ]
     },
     "execution_count": 11,
     "metadata": {},
     "output_type": "execute_result"
    }
   ],
   "source": [
    "JD"
   ]
  },
  {
   "cell_type": "code",
   "execution_count": null,
   "id": "f17cbcd0",
   "metadata": {},
   "outputs": [],
   "source": []
  }
 ],
 "metadata": {
  "kernelspec": {
   "display_name": "Python 3 (ipykernel)",
   "language": "python",
   "name": "python3"
  },
  "language_info": {
   "codemirror_mode": {
    "name": "ipython",
    "version": 3
   },
   "file_extension": ".py",
   "mimetype": "text/x-python",
   "name": "python",
   "nbconvert_exporter": "python",
   "pygments_lexer": "ipython3",
   "version": "3.9.12"
  }
 },
 "nbformat": 4,
 "nbformat_minor": 5
}
